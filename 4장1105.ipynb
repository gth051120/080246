{
  "nbformat": 4,
  "nbformat_minor": 0,
  "metadata": {
    "colab": {
      "provenance": [],
      "authorship_tag": "ABX9TyPsVdpuBydb9Qo283dJ/Rd1",
      "include_colab_link": true
    },
    "kernelspec": {
      "name": "python3",
      "display_name": "Python 3"
    },
    "language_info": {
      "name": "python"
    }
  },
  "cells": [
    {
      "cell_type": "markdown",
      "metadata": {
        "id": "view-in-github",
        "colab_type": "text"
      },
      "source": [
        "<a href=\"https://colab.research.google.com/github/gth051120/080246/blob/master/4%EC%9E%A51105.ipynb\" target=\"_parent\"><img src=\"https://colab.research.google.com/assets/colab-badge.svg\" alt=\"Open In Colab\"/></a>"
      ]
    },
    {
      "cell_type": "code",
      "execution_count": 1,
      "metadata": {
        "colab": {
          "base_uri": "https://localhost:8080/"
        },
        "id": "TqeAX2xZtClP",
        "outputId": "4ad6591f-3e6d-4a6e-db48-0f20a91ed6a0"
      },
      "outputs": [
        {
          "output_type": "stream",
          "name": "stdout",
          "text": [
            "8 * 1 = 8\n",
            "8 * 2 = 16\n",
            "8 * 3 = 24\n",
            "8 * 4 = 32\n",
            "8 * 5 = 40\n",
            "8 * 6 = 48\n",
            "8 * 7 = 56\n",
            "8 * 8 = 64\n",
            "8 * 9 = 72\n"
          ]
        }
      ],
      "source": [
        "x=8\n",
        "for i in [1,2,3,4,5,6,7,8,9]:\n",
        "    print(x,\"*\",i,\"=\",x*i)"
      ]
    },
    {
      "cell_type": "code",
      "source": [
        "x=int(input(\"구구단 몇단을 계산할까?\"))\n",
        "print(\"구구단 \"+str(x)+\" 단을 계산한다.\" )\n",
        "for i in[1,2,3,4,5,6,7,8,9]:\n",
        "    print(x,\"*\",i,\"=\",x*i)"
      ],
      "metadata": {
        "colab": {
          "base_uri": "https://localhost:8080/"
        },
        "id": "9ShAtFOAvjiC",
        "outputId": "338075c5-950d-4193-db17-b3b6b44e2635"
      },
      "execution_count": 11,
      "outputs": [
        {
          "output_type": "stream",
          "name": "stdout",
          "text": [
            "구구단 몇단을 계산할까?12\n",
            "구구단 12 단을 계산한다.\n",
            "12 * 1 = 12\n",
            "12 * 2 = 24\n",
            "12 * 3 = 36\n",
            "12 * 4 = 48\n",
            "12 * 5 = 60\n",
            "12 * 6 = 72\n",
            "12 * 7 = 84\n",
            "12 * 8 = 96\n",
            "12 * 9 = 108\n"
          ]
        }
      ]
    },
    {
      "cell_type": "code",
      "source": [
        "int('8')*9"
      ],
      "metadata": {
        "colab": {
          "base_uri": "https://localhost:8080/"
        },
        "id": "A864pNmFv2t7",
        "outputId": "2a42e340-58fc-4ea3-827f-1cc168cc1788"
      },
      "execution_count": 6,
      "outputs": [
        {
          "output_type": "execute_result",
          "data": {
            "text/plain": [
              "72"
            ]
          },
          "metadata": {},
          "execution_count": 6
        }
      ]
    },
    {
      "cell_type": "markdown",
      "source": [
        "###정수의 합"
      ],
      "metadata": {
        "id": "rCmFpeb3z11d"
      }
    },
    {
      "cell_type": "code",
      "source": [
        "result = 0\n",
        "for i in range(1,10001):\n",
        "  result = result + i\n",
        "  #print(i,result)\n",
        "\n",
        "result"
      ],
      "metadata": {
        "colab": {
          "base_uri": "https://localhost:8080/"
        },
        "id": "pOK-ziV_z0V0",
        "outputId": "b97b5ea4-b063-4502-fbc0-837d05449af6"
      },
      "execution_count": 34,
      "outputs": [
        {
          "output_type": "execute_result",
          "data": {
            "text/plain": [
              "50005000"
            ]
          },
          "metadata": {},
          "execution_count": 34
        }
      ]
    },
    {
      "cell_type": "markdown",
      "source": [
        "###문자열 역순 출력"
      ],
      "metadata": {
        "id": "FnKJtFSbw1wm"
      }
    },
    {
      "cell_type": "code",
      "source": [
        "sent = \"l love you\"\n",
        "rev=\"\"\n",
        "for i in sent:\n",
        "    #print(i)\n",
        "    rev = i + rev"
      ],
      "metadata": {
        "id": "nts65Jeev9GQ"
      },
      "execution_count": 21,
      "outputs": []
    },
    {
      "cell_type": "code",
      "source": [
        "rev"
      ],
      "metadata": {
        "colab": {
          "base_uri": "https://localhost:8080/",
          "height": 35
        },
        "id": "INQtoNFTyOfW",
        "outputId": "3f04e5b7-bdd2-455b-f0ae-e24dd3f3c605"
      },
      "execution_count": 22,
      "outputs": [
        {
          "output_type": "execute_result",
          "data": {
            "text/plain": [
              "'uoy evol l'"
            ],
            "application/vnd.google.colaboratory.intrinsic+json": {
              "type": "string"
            }
          },
          "metadata": {},
          "execution_count": 22
        }
      ]
    }
  ]
}